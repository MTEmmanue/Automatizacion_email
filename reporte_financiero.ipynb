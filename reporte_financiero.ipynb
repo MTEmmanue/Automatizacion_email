{
 "cells": [
  {
   "cell_type": "markdown",
   "id": "4787d100",
   "metadata": {},
   "source": [
    "# Buscar los datos de acciones automaticamente"
   ]
  },
  {
   "cell_type": "code",
   "execution_count": 54,
   "id": "f2ade3e6",
   "metadata": {},
   "outputs": [],
   "source": [
    "#! pip install yfinance\n",
    "#! pip install matplotlib"
   ]
  },
  {
   "cell_type": "code",
   "execution_count": 51,
   "id": "5dec117e",
   "metadata": {},
   "outputs": [
    {
     "data": {
      "text/html": [
       "<div>\n",
       "<style scoped>\n",
       "    .dataframe tbody tr th:only-of-type {\n",
       "        vertical-align: middle;\n",
       "    }\n",
       "\n",
       "    .dataframe tbody tr th {\n",
       "        vertical-align: top;\n",
       "    }\n",
       "\n",
       "    .dataframe thead th {\n",
       "        text-align: right;\n",
       "    }\n",
       "</style>\n",
       "<table border=\"1\" class=\"dataframe\">\n",
       "  <thead>\n",
       "    <tr style=\"text-align: right;\">\n",
       "      <th></th>\n",
       "      <th>Open</th>\n",
       "      <th>High</th>\n",
       "      <th>Low</th>\n",
       "      <th>Close</th>\n",
       "      <th>Volume</th>\n",
       "      <th>Dividends</th>\n",
       "      <th>Stock Splits</th>\n",
       "    </tr>\n",
       "    <tr>\n",
       "      <th>Date</th>\n",
       "      <th></th>\n",
       "      <th></th>\n",
       "      <th></th>\n",
       "      <th></th>\n",
       "      <th></th>\n",
       "      <th></th>\n",
       "      <th></th>\n",
       "    </tr>\n",
       "  </thead>\n",
       "  <tbody>\n",
       "    <tr>\n",
       "      <th>2024-11-18 00:00:00-05:00</th>\n",
       "      <td>224.707930</td>\n",
       "      <td>229.187130</td>\n",
       "      <td>224.628120</td>\n",
       "      <td>227.471268</td>\n",
       "      <td>44686000</td>\n",
       "      <td>0.00</td>\n",
       "      <td>0.0</td>\n",
       "    </tr>\n",
       "    <tr>\n",
       "      <th>2024-11-19 00:00:00-05:00</th>\n",
       "      <td>226.433777</td>\n",
       "      <td>229.606133</td>\n",
       "      <td>226.114555</td>\n",
       "      <td>227.730652</td>\n",
       "      <td>36211800</td>\n",
       "      <td>0.00</td>\n",
       "      <td>0.0</td>\n",
       "    </tr>\n",
       "    <tr>\n",
       "      <th>2024-11-20 00:00:00-05:00</th>\n",
       "      <td>227.511173</td>\n",
       "      <td>229.376668</td>\n",
       "      <td>225.346397</td>\n",
       "      <td>228.448914</td>\n",
       "      <td>35169600</td>\n",
       "      <td>0.00</td>\n",
       "      <td>0.0</td>\n",
       "    </tr>\n",
       "    <tr>\n",
       "      <th>2024-11-21 00:00:00-05:00</th>\n",
       "      <td>228.329212</td>\n",
       "      <td>229.606130</td>\n",
       "      <td>225.166842</td>\n",
       "      <td>227.970078</td>\n",
       "      <td>42108300</td>\n",
       "      <td>0.00</td>\n",
       "      <td>0.0</td>\n",
       "    </tr>\n",
       "    <tr>\n",
       "      <th>2024-11-22 00:00:00-05:00</th>\n",
       "      <td>227.511176</td>\n",
       "      <td>230.164779</td>\n",
       "      <td>227.511176</td>\n",
       "      <td>229.316818</td>\n",
       "      <td>38168300</td>\n",
       "      <td>0.00</td>\n",
       "      <td>0.0</td>\n",
       "    </tr>\n",
       "    <tr>\n",
       "      <th>...</th>\n",
       "      <td>...</td>\n",
       "      <td>...</td>\n",
       "      <td>...</td>\n",
       "      <td>...</td>\n",
       "      <td>...</td>\n",
       "      <td>...</td>\n",
       "      <td>...</td>\n",
       "    </tr>\n",
       "    <tr>\n",
       "      <th>2025-05-12 00:00:00-04:00</th>\n",
       "      <td>210.970001</td>\n",
       "      <td>211.270004</td>\n",
       "      <td>206.750000</td>\n",
       "      <td>210.789993</td>\n",
       "      <td>63775800</td>\n",
       "      <td>0.26</td>\n",
       "      <td>0.0</td>\n",
       "    </tr>\n",
       "    <tr>\n",
       "      <th>2025-05-13 00:00:00-04:00</th>\n",
       "      <td>210.429993</td>\n",
       "      <td>213.399994</td>\n",
       "      <td>209.000000</td>\n",
       "      <td>212.929993</td>\n",
       "      <td>51909300</td>\n",
       "      <td>0.00</td>\n",
       "      <td>0.0</td>\n",
       "    </tr>\n",
       "    <tr>\n",
       "      <th>2025-05-14 00:00:00-04:00</th>\n",
       "      <td>212.429993</td>\n",
       "      <td>213.940002</td>\n",
       "      <td>210.580002</td>\n",
       "      <td>212.330002</td>\n",
       "      <td>49325800</td>\n",
       "      <td>0.00</td>\n",
       "      <td>0.0</td>\n",
       "    </tr>\n",
       "    <tr>\n",
       "      <th>2025-05-15 00:00:00-04:00</th>\n",
       "      <td>210.949997</td>\n",
       "      <td>212.960007</td>\n",
       "      <td>209.539993</td>\n",
       "      <td>211.449997</td>\n",
       "      <td>45029500</td>\n",
       "      <td>0.00</td>\n",
       "      <td>0.0</td>\n",
       "    </tr>\n",
       "    <tr>\n",
       "      <th>2025-05-16 00:00:00-04:00</th>\n",
       "      <td>212.360001</td>\n",
       "      <td>212.570007</td>\n",
       "      <td>209.770004</td>\n",
       "      <td>211.259995</td>\n",
       "      <td>53659100</td>\n",
       "      <td>0.00</td>\n",
       "      <td>0.0</td>\n",
       "    </tr>\n",
       "  </tbody>\n",
       "</table>\n",
       "<p>123 rows × 7 columns</p>\n",
       "</div>"
      ],
      "text/plain": [
       "                                 Open        High         Low       Close  \\\n",
       "Date                                                                        \n",
       "2024-11-18 00:00:00-05:00  224.707930  229.187130  224.628120  227.471268   \n",
       "2024-11-19 00:00:00-05:00  226.433777  229.606133  226.114555  227.730652   \n",
       "2024-11-20 00:00:00-05:00  227.511173  229.376668  225.346397  228.448914   \n",
       "2024-11-21 00:00:00-05:00  228.329212  229.606130  225.166842  227.970078   \n",
       "2024-11-22 00:00:00-05:00  227.511176  230.164779  227.511176  229.316818   \n",
       "...                               ...         ...         ...         ...   \n",
       "2025-05-12 00:00:00-04:00  210.970001  211.270004  206.750000  210.789993   \n",
       "2025-05-13 00:00:00-04:00  210.429993  213.399994  209.000000  212.929993   \n",
       "2025-05-14 00:00:00-04:00  212.429993  213.940002  210.580002  212.330002   \n",
       "2025-05-15 00:00:00-04:00  210.949997  212.960007  209.539993  211.449997   \n",
       "2025-05-16 00:00:00-04:00  212.360001  212.570007  209.770004  211.259995   \n",
       "\n",
       "                             Volume  Dividends  Stock Splits  \n",
       "Date                                                          \n",
       "2024-11-18 00:00:00-05:00  44686000       0.00           0.0  \n",
       "2024-11-19 00:00:00-05:00  36211800       0.00           0.0  \n",
       "2024-11-20 00:00:00-05:00  35169600       0.00           0.0  \n",
       "2024-11-21 00:00:00-05:00  42108300       0.00           0.0  \n",
       "2024-11-22 00:00:00-05:00  38168300       0.00           0.0  \n",
       "...                             ...        ...           ...  \n",
       "2025-05-12 00:00:00-04:00  63775800       0.26           0.0  \n",
       "2025-05-13 00:00:00-04:00  51909300       0.00           0.0  \n",
       "2025-05-14 00:00:00-04:00  49325800       0.00           0.0  \n",
       "2025-05-15 00:00:00-04:00  45029500       0.00           0.0  \n",
       "2025-05-16 00:00:00-04:00  53659100       0.00           0.0  \n",
       "\n",
       "[123 rows x 7 columns]"
      ]
     },
     "execution_count": 51,
     "metadata": {},
     "output_type": "execute_result"
    }
   ],
   "source": [
    "import yfinance\n",
    "import matplotlib\n",
    "\n",
    "yfinance.Ticker(\"AAPL\").history(\"6mo\")"
   ]
  },
  {
   "cell_type": "code",
   "execution_count": 52,
   "id": "b99f7d59",
   "metadata": {},
   "outputs": [
    {
     "data": {
      "text/plain": [
       "<Axes: xlabel='Date'>"
      ]
     },
     "execution_count": 52,
     "metadata": {},
     "output_type": "execute_result"
    },
    {
     "data": {
      "image/png": "[encoded data removed]",
      "text/plain": [
       "<Figure size 640x480 with 1 Axes>"
      ]
     },
     "metadata": {},
     "output_type": "display_data"
    }
   ],
   "source": [
    "data = yfinance.Ticker(\"AAPL\").history(\"6mo\")\n",
    "\n",
    "\n",
    "cierre = data.Close\n",
    "cierre.plot()"
   ]
  },
  {
   "cell_type": "code",
   "execution_count": 59,
   "id": "2700bb70",
   "metadata": {},
   "outputs": [
    {
     "data": {
      "text/plain": [
       "<Axes: xlabel='Date'>"
      ]
     },
     "execution_count": 59,
     "metadata": {},
     "output_type": "execute_result"
    },
    {
     "data": {
      "image/png": "[encoded data removed]",
      "text/plain": [
       "<Figure size 640x480 with 1 Axes>"
      ]
     },
     "metadata": {},
     "output_type": "display_data"
    }
   ],
   "source": [
    "ticker = input(\"Digita el código de la acción: \")\n",
    "\n",
    "data = yfinance.Ticker(ticker).history(\"6mo\")\n",
    "cierre = data.Close \n",
    "cierre.plot()"
   ]
  },
  {
   "cell_type": "markdown",
   "id": "0492fbc8",
   "metadata": {},
   "source": [
    "## Crear analisis de la acción\n"
   ]
  },
  {
   "cell_type": "code",
   "execution_count": 60,
   "id": "f33b844f",
   "metadata": {},
   "outputs": [
    {
     "name": "stdout",
     "output_type": "stream",
     "text": [
      "258.4\n",
      "172.19\n",
      "226.52253561872777\n"
     ]
    }
   ],
   "source": [
    "maxima = round(cierre.max(), 2)\n",
    "minima = round(cierre.min(), 2)\n",
    "valor_medio = cierre.mean()\n",
    "\n",
    "print(maxima)\n",
    "print(minima)\n",
    "print(valor_medio)"
   ]
  },
  {
   "cell_type": "markdown",
   "id": "62cba94d",
   "metadata": {},
   "source": [
    "# Envio de E-mail automaticamente"
   ]
  },
  {
   "cell_type": "code",
   "execution_count": 35,
   "id": "55533502",
   "metadata": {},
   "outputs": [],
   "source": [
    "# ! pip install pyautogui\n",
    "# ! pip install  pyperclip"
   ]
  },
  {
   "cell_type": "code",
   "execution_count": 66,
   "id": "d91f8bfb",
   "metadata": {},
   "outputs": [],
   "source": [
    "import pyautogui\n",
    "import pyperclip\n",
    "import webbrowser\n",
    "import time\n"
   ]
  },
  {
   "cell_type": "code",
   "execution_count": null,
   "id": "29693aa4",
   "metadata": {},
   "outputs": [],
   "source": [
    "\n",
    "\n",
    "destinatario = \"j.muz.tapia@gmail.com\"\n",
    "\n",
    "asunto = \"Análisis de acciones en los últimos 6 meses\"\n",
    "cuerpo = f\"\"\"\n",
    "Hola.\n",
    "\n",
    "Te comparto el análisis de la acción {ticker} de los últimos 6 meses.\n",
    " \n",
    "Cotización mínima de USD {minima}\n",
    "Cotización máxima de USD {maxima}\n",
    "Cotización media de USD {valor_medio}\n",
    "\n",
    "\n",
    "Saludos cordiales.\n",
    "\"\"\""
   ]
  },
  {
   "cell_type": "code",
   "execution_count": 38,
   "id": "a2ffd54f",
   "metadata": {},
   "outputs": [
    {
     "data": {
      "text/plain": [
       "Point(x=2430, y=112)"
      ]
     },
     "execution_count": 38,
     "metadata": {},
     "output_type": "execute_result"
    }
   ],
   "source": [
    "# Espera 5 segundos para poder posicionar el cursor\n",
    "time.sleep(3)  \n",
    "\n",
    "# Saber las coordenadas en que se situa el cursor en la pantalla\n",
    "pyautogui.position()"
   ]
  },
  {
   "cell_type": "code",
   "execution_count": 82,
   "id": "c849fd7f",
   "metadata": {},
   "outputs": [],
   "source": [
    "\n",
    "# Abir el navegador y la página de Gmail\n",
    "webbrowser.open('https://mail.google.com/mail/u/0/#inbox')\n",
    "\n",
    "time.sleep(3)\n",
    "\n",
    "pyautogui.PAUSE = 3 # Pausa de 3 segundos entre cada acción\n",
    "\n",
    "# Hacer click en el botón de redacción\n",
    "pyautogui.click(x=75, y=177)  # Click con las coordenadas de la pantalla\n",
    "\n",
    "\n",
    "pyperclip.copy(destinatario)  # Copia el destinatario al portapapeles\n",
    "pyautogui.hotkey('ctrl', 'v')  # Pega el destinatario en el campo \"Para\"\n",
    "\n",
    "pyautogui.PAUSE = 1\n",
    "\n",
    "pyautogui.press('tab')  # Presiona la tecla Tab para ir al campo \"Asunto\"\n",
    "\n",
    "pyperclip.copy(asunto)  # Copia el asunto al portapapeles\n",
    "pyautogui.hotkey('ctrl', 'v')  # Pega el asunto en el campo \"Asunto\"\n",
    "pyautogui.press('tab')  # Presiona la tecla Tab para ir al cuerpo del correo    \n",
    "\n",
    "pyperclip.copy(cuerpo)  # Copia el cuerpo al portapapeles\n",
    "pyautogui.hotkey('ctrl', 'v')  # Pega el cuerpo en el cuerpo del correo\n",
    "\n",
    "time.sleep(3)\n",
    "\n",
    "pyautogui.click(x=1296, y=988)  # Click en el botón de enviar\n",
    "\n",
    "time.sleep(1)\n",
    "\n",
    "pyautogui.hotkey('ctrl', 'f4')  # Cierra la pestaña del navegador\n",
    "\n",
    "# Espera 5 segundos para poder posicionar el cursor\n",
    "#time.sleep(3)  \n",
    "\n",
    "# Saber las coordenadas en que se situa el cursor en la pantalla\n",
    "#pyautogui.position()"
   ]
  }
 ],
 "metadata": {
  "kernelspec": {
   "display_name": "Python 3",
   "language": "python",
   "name": "python3"
  },
  "language_info": {
   "codemirror_mode": {
    "name": "ipython",
    "version": 3
   },
   "file_extension": ".py",
   "mimetype": "text/x-python",
   "name": "python",
   "nbconvert_exporter": "python",
   "pygments_lexer": "ipython3",
   "version": "3.11.9"
  }
 },
 "nbformat": 4,
 "nbformat_minor": 5
}
